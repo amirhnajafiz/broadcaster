{
 "cells": [
  {
   "cell_type": "code",
   "execution_count": 2,
   "id": "3c20a032",
   "metadata": {},
   "outputs": [],
   "source": [
    "import json"
   ]
  },
  {
   "cell_type": "code",
   "execution_count": 14,
   "id": "97e8d0a7",
   "metadata": {},
   "outputs": [
    {
     "ename": "SyntaxError",
     "evalue": "EOL while scanning string literal (2018988563.py, line 1)",
     "output_type": "error",
     "traceback": [
      "\u001b[1;36m  File \u001b[1;32m\"C:\\Users\\Mari\\AppData\\Local\\Temp\\ipykernel_11808\\2018988563.py\"\u001b[1;36m, line \u001b[1;32m1\u001b[0m\n\u001b[1;33m    x = '{\u001b[0m\n\u001b[1;37m          ^\u001b[0m\n\u001b[1;31mSyntaxError\u001b[0m\u001b[1;31m:\u001b[0m EOL while scanning string literal\n"
     ]
    }
   ],
   "source": [
    "x = '{\n",
    "  \"routes\": [\n",
    "    {\n",
    "      \"id\": 1,\n",
    "      \"start\": {\n",
    "        \"ID\": 10,\n",
    "        \"CreatedAt\": \"2023-05-09T11:00:12.181975+03:30\",\n",
    "        \"UpdatedAt\": \"2023-05-09T11:00:12.181975+03:30\",\n",
    "        \"DeletedAt\": null,\n",
    "        \"x\": 955,\n",
    "        \"y\": -862\n",
    "      },\n",
    "      \"stop\": {\n",
    "        \"ID\": 6,\n",
    "        \"CreatedAt\": \"2023-05-09T11:00:11.2225+03:30\",\n",
    "        \"UpdatedAt\": \"2023-05-09T11:00:11.2225+03:30\",\n",
    "        \"DeletedAt\": null,\n",
    "        \"x\": -584,\n",
    "        \"y\": 872\n",
    "      }\n",
    "    },\n",
    "    {\n",
    "      \"id\": 2,\n",
    "      \"start\": {\n",
    "        \"ID\": 10,\n",
    "        \"CreatedAt\": \"2023-05-09T11:00:12.181975+03:30\",\n",
    "        \"UpdatedAt\": \"2023-05-09T11:00:12.181975+03:30\",\n",
    "        \"DeletedAt\": null,\n",
    "        \"x\": 955,\n",
    "        \"y\": -862\n",
    "      },\n",
    "      \"stop\": {\n",
    "        \"ID\": 4,\n",
    "        \"CreatedAt\": \"2023-05-09T11:00:08.386891+03:30\",\n",
    "        \"UpdatedAt\": \"2023-05-09T11:00:08.386891+03:30\",\n",
    "        \"DeletedAt\": null,\n",
    "        \"x\": 475,\n",
    "        \"y\": -265\n",
    "      }\n",
    "    }\n",
    "  ],\n",
    "  \"searches\": [\n",
    "    {\n",
    "      \"x1\": -545,\n",
    "      \"y1\": -850,\n",
    "      \"x2\": -215,\n",
    "      \"y2\": 471\n",
    "    },\n",
    "    {\n",
    "      \"x1\": 877,\n",
    "      \"y1\": 239,\n",
    "      \"x2\": -594,\n",
    "      \"y2\": -762\n",
    "    },\n",
    "    {\n",
    "      \"x1\": 171,\n",
    "      \"y1\": -629,\n",
    "      \"x2\": 40,\n",
    "      \"y2\": -741\n",
    "    }\n",
    "  ]\n",
    "}"
   ]
  },
  {
   "cell_type": "code",
   "execution_count": 8,
   "id": "78ab957d",
   "metadata": {},
   "outputs": [
    {
     "ename": "TypeError",
     "evalue": "the JSON object must be str, bytes or bytearray, not dict",
     "output_type": "error",
     "traceback": [
      "\u001b[1;31m---------------------------------------------------------------------------\u001b[0m",
      "\u001b[1;31mTypeError\u001b[0m                                 Traceback (most recent call last)",
      "\u001b[1;32m~\\AppData\\Local\\Temp\\ipykernel_11808\\4010062492.py\u001b[0m in \u001b[0;36m<module>\u001b[1;34m\u001b[0m\n\u001b[0;32m      1\u001b[0m \u001b[1;31m# Convert into json\u001b[0m\u001b[1;33m\u001b[0m\u001b[1;33m\u001b[0m\u001b[1;33m\u001b[0m\u001b[0m\n\u001b[1;32m----> 2\u001b[1;33m \u001b[0mdata\u001b[0m \u001b[1;33m=\u001b[0m \u001b[0mjson\u001b[0m\u001b[1;33m.\u001b[0m\u001b[0mloads\u001b[0m\u001b[1;33m(\u001b[0m\u001b[0mx\u001b[0m\u001b[1;33m)\u001b[0m\u001b[1;33m\u001b[0m\u001b[1;33m\u001b[0m\u001b[0m\n\u001b[0m",
      "\u001b[1;32mc:\\users\\mari\\appdata\\local\\programs\\python\\python37\\lib\\json\\__init__.py\u001b[0m in \u001b[0;36mloads\u001b[1;34m(s, encoding, cls, object_hook, parse_float, parse_int, parse_constant, object_pairs_hook, **kw)\u001b[0m\n\u001b[0;32m    339\u001b[0m     \u001b[1;32melse\u001b[0m\u001b[1;33m:\u001b[0m\u001b[1;33m\u001b[0m\u001b[1;33m\u001b[0m\u001b[0m\n\u001b[0;32m    340\u001b[0m         \u001b[1;32mif\u001b[0m \u001b[1;32mnot\u001b[0m \u001b[0misinstance\u001b[0m\u001b[1;33m(\u001b[0m\u001b[0ms\u001b[0m\u001b[1;33m,\u001b[0m \u001b[1;33m(\u001b[0m\u001b[0mbytes\u001b[0m\u001b[1;33m,\u001b[0m \u001b[0mbytearray\u001b[0m\u001b[1;33m)\u001b[0m\u001b[1;33m)\u001b[0m\u001b[1;33m:\u001b[0m\u001b[1;33m\u001b[0m\u001b[1;33m\u001b[0m\u001b[0m\n\u001b[1;32m--> 341\u001b[1;33m             raise TypeError(f'the JSON object must be str, bytes or bytearray, '\n\u001b[0m\u001b[0;32m    342\u001b[0m                             f'not {s.__class__.__name__}')\n\u001b[0;32m    343\u001b[0m         \u001b[0ms\u001b[0m \u001b[1;33m=\u001b[0m \u001b[0ms\u001b[0m\u001b[1;33m.\u001b[0m\u001b[0mdecode\u001b[0m\u001b[1;33m(\u001b[0m\u001b[0mdetect_encoding\u001b[0m\u001b[1;33m(\u001b[0m\u001b[0ms\u001b[0m\u001b[1;33m)\u001b[0m\u001b[1;33m,\u001b[0m \u001b[1;34m'surrogatepass'\u001b[0m\u001b[1;33m)\u001b[0m\u001b[1;33m\u001b[0m\u001b[1;33m\u001b[0m\u001b[0m\n",
      "\u001b[1;31mTypeError\u001b[0m: the JSON object must be str, bytes or bytearray, not dict"
     ]
    }
   ],
   "source": [
    "# Convert into json\n",
    "data = json.loads(x)"
   ]
  },
  {
   "cell_type": "code",
   "execution_count": null,
   "id": "da512e23",
   "metadata": {},
   "outputs": [],
   "source": []
  }
 ],
 "metadata": {
  "kernelspec": {
   "display_name": "Python 3 (ipykernel)",
   "language": "python",
   "name": "python3"
  },
  "language_info": {
   "codemirror_mode": {
    "name": "ipython",
    "version": 3
   },
   "file_extension": ".py",
   "mimetype": "text/x-python",
   "name": "python",
   "nbconvert_exporter": "python",
   "pygments_lexer": "ipython3",
   "version": "3.7.4"
  }
 },
 "nbformat": 4,
 "nbformat_minor": 5
}
