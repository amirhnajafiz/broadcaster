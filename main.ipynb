{
 "cells": [
  {
   "cell_type": "code",
   "execution_count": 22,
   "id": "3c20a032",
   "metadata": {},
   "outputs": [],
   "source": [
    "import json\n",
    "import pandas as pd"
   ]
  },
  {
   "cell_type": "code",
   "execution_count": 15,
   "id": "97e8d0a7",
   "metadata": {},
   "outputs": [],
   "source": [
    "x = '''{\n",
    "  \"routes\": [\n",
    "    {\n",
    "      \"id\": 1,\n",
    "      \"start\": {\n",
    "        \"ID\": 10,\n",
    "        \"CreatedAt\": \"2023-05-09T11:00:12.181975+03:30\",\n",
    "        \"UpdatedAt\": \"2023-05-09T11:00:12.181975+03:30\",\n",
    "        \"DeletedAt\": null,\n",
    "        \"x\": 955,\n",
    "        \"y\": -862\n",
    "      },\n",
    "      \"stop\": {\n",
    "        \"ID\": 6,\n",
    "        \"CreatedAt\": \"2023-05-09T11:00:11.2225+03:30\",\n",
    "        \"UpdatedAt\": \"2023-05-09T11:00:11.2225+03:30\",\n",
    "        \"DeletedAt\": null,\n",
    "        \"x\": -584,\n",
    "        \"y\": 872\n",
    "      }\n",
    "    },\n",
    "    {\n",
    "      \"id\": 2,\n",
    "      \"start\": {\n",
    "        \"ID\": 10,\n",
    "        \"CreatedAt\": \"2023-05-09T11:00:12.181975+03:30\",\n",
    "        \"UpdatedAt\": \"2023-05-09T11:00:12.181975+03:30\",\n",
    "        \"DeletedAt\": null,\n",
    "        \"x\": 955,\n",
    "        \"y\": -862\n",
    "      },\n",
    "      \"stop\": {\n",
    "        \"ID\": 4,\n",
    "        \"CreatedAt\": \"2023-05-09T11:00:08.386891+03:30\",\n",
    "        \"UpdatedAt\": \"2023-05-09T11:00:08.386891+03:30\",\n",
    "        \"DeletedAt\": null,\n",
    "        \"x\": 475,\n",
    "        \"y\": -265\n",
    "      }\n",
    "    }\n",
    "  ],\n",
    "  \"searches\": [\n",
    "    {\n",
    "      \"x1\": -545,\n",
    "      \"y1\": -850,\n",
    "      \"x2\": -215,\n",
    "      \"y2\": 471\n",
    "    },\n",
    "    {\n",
    "      \"x1\": 877,\n",
    "      \"y1\": 239,\n",
    "      \"x2\": -594,\n",
    "      \"y2\": -762\n",
    "    },\n",
    "    {\n",
    "      \"x1\": 171,\n",
    "      \"y1\": -629,\n",
    "      \"x2\": 40,\n",
    "      \"y2\": -741\n",
    "    }\n",
    "  ]\n",
    "}'''"
   ]
  },
  {
   "cell_type": "code",
   "execution_count": 16,
   "id": "78ab957d",
   "metadata": {},
   "outputs": [],
   "source": [
    "data = json.loads(x)"
   ]
  },
  {
   "cell_type": "code",
   "execution_count": 17,
   "id": "da512e23",
   "metadata": {},
   "outputs": [
    {
     "name": "stdout",
     "output_type": "stream",
     "text": [
      "x:  <class 'str'>\n"
     ]
    }
   ],
   "source": [
    "print('x: ',type(x))"
   ]
  },
  {
   "cell_type": "code",
   "execution_count": 19,
   "id": "8739c0d5",
   "metadata": {},
   "outputs": [
    {
     "name": "stdout",
     "output_type": "stream",
     "text": [
      "[{'id': 1, 'start': {'ID': 10, 'CreatedAt': '2023-05-09T11:00:12.181975+03:30', 'UpdatedAt': '2023-05-09T11:00:12.181975+03:30', 'DeletedAt': None, 'x': 955, 'y': -862}, 'stop': {'ID': 6, 'CreatedAt': '2023-05-09T11:00:11.2225+03:30', 'UpdatedAt': '2023-05-09T11:00:11.2225+03:30', 'DeletedAt': None, 'x': -584, 'y': 872}}, {'id': 2, 'start': {'ID': 10, 'CreatedAt': '2023-05-09T11:00:12.181975+03:30', 'UpdatedAt': '2023-05-09T11:00:12.181975+03:30', 'DeletedAt': None, 'x': 955, 'y': -862}, 'stop': {'ID': 4, 'CreatedAt': '2023-05-09T11:00:08.386891+03:30', 'UpdatedAt': '2023-05-09T11:00:08.386891+03:30', 'DeletedAt': None, 'x': 475, 'y': -265}}]\n"
     ]
    }
   ],
   "source": [
    "print(data[\"routes\"])"
   ]
  },
  {
   "cell_type": "code",
   "execution_count": 20,
   "id": "6d1a4ad4",
   "metadata": {},
   "outputs": [
    {
     "name": "stdout",
     "output_type": "stream",
     "text": [
      "[{'x1': -545, 'y1': -850, 'x2': -215, 'y2': 471}, {'x1': 877, 'y1': 239, 'x2': -594, 'y2': -762}, {'x1': 171, 'y1': -629, 'x2': 40, 'y2': -741}]\n"
     ]
    }
   ],
   "source": [
    "print(data[\"searches\"])"
   ]
  },
  {
   "cell_type": "code",
   "execution_count": 29,
   "id": "8b03d1f6",
   "metadata": {},
   "outputs": [],
   "source": [
    "df = pd.read_json(x, orient='index')"
   ]
  },
  {
   "cell_type": "code",
   "execution_count": 30,
   "id": "b3ce0348",
   "metadata": {},
   "outputs": [
    {
     "name": "stdout",
     "output_type": "stream",
     "text": [
      "                                                          0  \\\n",
      "routes    {'id': 1, 'start': {'ID': 10, 'CreatedAt': '20...   \n",
      "searches    {'x1': -545, 'y1': -850, 'x2': -215, 'y2': 471}   \n",
      "\n",
      "                                                          1  \\\n",
      "routes    {'id': 2, 'start': {'ID': 10, 'CreatedAt': '20...   \n",
      "searches     {'x1': 877, 'y1': 239, 'x2': -594, 'y2': -762}   \n",
      "\n",
      "                                                      2  \n",
      "routes                                             None  \n",
      "searches  {'x1': 171, 'y1': -629, 'x2': 40, 'y2': -741}  \n"
     ]
    }
   ],
   "source": [
    "print(df)"
   ]
  },
  {
   "cell_type": "code",
   "execution_count": null,
   "id": "23da8607",
   "metadata": {},
   "outputs": [],
   "source": []
  }
 ],
 "metadata": {
  "kernelspec": {
   "display_name": "Python 3 (ipykernel)",
   "language": "python",
   "name": "python3"
  },
  "language_info": {
   "codemirror_mode": {
    "name": "ipython",
    "version": 3
   },
   "file_extension": ".py",
   "mimetype": "text/x-python",
   "name": "python",
   "nbconvert_exporter": "python",
   "pygments_lexer": "ipython3",
   "version": "3.7.4"
  }
 },
 "nbformat": 4,
 "nbformat_minor": 5
}
