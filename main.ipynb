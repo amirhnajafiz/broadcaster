{
 "cells": [
  {
   "cell_type": "code",
   "execution_count": 1,
   "id": "3c20a032",
   "metadata": {},
   "outputs": [],
   "source": [
    "import json"
   ]
  },
  {
   "cell_type": "code",
   "execution_count": 4,
   "id": "97e8d0a7",
   "metadata": {},
   "outputs": [],
   "source": [
    "x = {\n",
    "  \"routes\": [\n",
    "    {\n",
    "      \"id\": 1,\n",
    "      \"start\": {\n",
    "        \"ID\": 10,\n",
    "        \"CreatedAt\": \"2023-05-09T11:00:12.181975+03:30\",\n",
    "        \"UpdatedAt\": \"2023-05-09T11:00:12.181975+03:30\",\n",
    "        \"DeletedAt\": None,\n",
    "        \"x\": 955,\n",
    "        \"y\": -862\n",
    "      },\n",
    "      \"stop\": {\n",
    "        \"ID\": 6,\n",
    "        \"CreatedAt\": \"2023-05-09T11:00:11.2225+03:30\",\n",
    "        \"UpdatedAt\": \"2023-05-09T11:00:11.2225+03:30\",\n",
    "        \"DeletedAt\": None,\n",
    "        \"x\": -584,\n",
    "        \"y\": 872\n",
    "      }\n",
    "    },\n",
    "    {\n",
    "      \"id\": 2,\n",
    "      \"start\": {\n",
    "        \"ID\": 10,\n",
    "        \"CreatedAt\": \"2023-05-09T11:00:12.181975+03:30\",\n",
    "        \"UpdatedAt\": \"2023-05-09T11:00:12.181975+03:30\",\n",
    "        \"DeletedAt\": None,\n",
    "        \"x\": 955,\n",
    "        \"y\": -862\n",
    "      },\n",
    "      \"stop\": {\n",
    "        \"ID\": 4,\n",
    "        \"CreatedAt\": \"2023-05-09T11:00:08.386891+03:30\",\n",
    "        \"UpdatedAt\": \"2023-05-09T11:00:08.386891+03:30\",\n",
    "        \"DeletedAt\": None,\n",
    "        \"x\": 475,\n",
    "        \"y\": -265\n",
    "      }\n",
    "    }\n",
    "  ],\n",
    "  \"searches\": [\n",
    "    {\n",
    "      \"x1\": -545,\n",
    "      \"y1\": -850,\n",
    "      \"x2\": -215,\n",
    "      \"y2\": 471\n",
    "    },\n",
    "    {\n",
    "      \"x1\": 877,\n",
    "      \"y1\": 239,\n",
    "      \"x2\": -594,\n",
    "      \"y2\": -762\n",
    "    },\n",
    "    {\n",
    "      \"x1\": 171,\n",
    "      \"y1\": -629,\n",
    "      \"x2\": 40,\n",
    "      \"y2\": -741\n",
    "    }\n",
    "  ]\n",
    "}"
   ]
  },
  {
   "cell_type": "code",
   "execution_count": 5,
   "id": "78ab957d",
   "metadata": {},
   "outputs": [],
   "source": [
    "# Convert into json\n",
    "data = json.dumps(x)"
   ]
  },
  {
   "cell_type": "code",
   "execution_count": null,
   "id": "da512e23",
   "metadata": {},
   "outputs": [],
   "source": []
  }
 ],
 "metadata": {
  "kernelspec": {
   "display_name": "Python 3 (ipykernel)",
   "language": "python",
   "name": "python3"
  },
  "language_info": {
   "codemirror_mode": {
    "name": "ipython",
    "version": 3
   },
   "file_extension": ".py",
   "mimetype": "text/x-python",
   "name": "python",
   "nbconvert_exporter": "python",
   "pygments_lexer": "ipython3",
   "version": "3.7.4"
  }
 },
 "nbformat": 4,
 "nbformat_minor": 5
}
