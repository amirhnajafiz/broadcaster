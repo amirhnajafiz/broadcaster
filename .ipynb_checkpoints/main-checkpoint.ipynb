{
 "cells": [
  {
   "cell_type": "code",
   "execution_count": 1,
   "id": "30979980",
   "metadata": {},
   "outputs": [],
   "source": [
    "import json"
   ]
  },
  {
   "cell_type": "code",
   "execution_count": 2,
   "id": "2134dc94",
   "metadata": {},
   "outputs": [
    {
     "ename": "NameError",
     "evalue": "name 'null' is not defined",
     "output_type": "error",
     "traceback": [
      "\u001b[1;31m---------------------------------------------------------------------------\u001b[0m",
      "\u001b[1;31mNameError\u001b[0m                                 Traceback (most recent call last)",
      "\u001b[1;32m~\\AppData\\Local\\Temp\\ipykernel_14776\\2879648849.py\u001b[0m in \u001b[0;36m<module>\u001b[1;34m\u001b[0m\n\u001b[0;32m      7\u001b[0m         \u001b[1;34m\"CreatedAt\"\u001b[0m\u001b[1;33m:\u001b[0m \u001b[1;34m\"2023-05-09T11:00:12.181975+03:30\"\u001b[0m\u001b[1;33m,\u001b[0m\u001b[1;33m\u001b[0m\u001b[1;33m\u001b[0m\u001b[0m\n\u001b[0;32m      8\u001b[0m         \u001b[1;34m\"UpdatedAt\"\u001b[0m\u001b[1;33m:\u001b[0m \u001b[1;34m\"2023-05-09T11:00:12.181975+03:30\"\u001b[0m\u001b[1;33m,\u001b[0m\u001b[1;33m\u001b[0m\u001b[1;33m\u001b[0m\u001b[0m\n\u001b[1;32m----> 9\u001b[1;33m         \u001b[1;34m\"DeletedAt\"\u001b[0m\u001b[1;33m:\u001b[0m \u001b[0mnull\u001b[0m\u001b[1;33m,\u001b[0m\u001b[1;33m\u001b[0m\u001b[1;33m\u001b[0m\u001b[0m\n\u001b[0m\u001b[0;32m     10\u001b[0m         \u001b[1;34m\"x\"\u001b[0m\u001b[1;33m:\u001b[0m \u001b[1;36m955\u001b[0m\u001b[1;33m,\u001b[0m\u001b[1;33m\u001b[0m\u001b[1;33m\u001b[0m\u001b[0m\n\u001b[0;32m     11\u001b[0m         \u001b[1;34m\"y\"\u001b[0m\u001b[1;33m:\u001b[0m \u001b[1;33m-\u001b[0m\u001b[1;36m862\u001b[0m\u001b[1;33m\u001b[0m\u001b[1;33m\u001b[0m\u001b[0m\n",
      "\u001b[1;31mNameError\u001b[0m: name 'null' is not defined"
     ]
    }
   ],
   "source": [
    "x = {\n",
    "  \"routes\": [\n",
    "    {\n",
    "      \"id\": 1,\n",
    "      \"start\": {\n",
    "        \"ID\": 10,\n",
    "        \"CreatedAt\": \"2023-05-09T11:00:12.181975+03:30\",\n",
    "        \"UpdatedAt\": \"2023-05-09T11:00:12.181975+03:30\",\n",
    "        \"DeletedAt\": null,\n",
    "        \"x\": 955,\n",
    "        \"y\": -862\n",
    "      },\n",
    "      \"stop\": {\n",
    "        \"ID\": 6,\n",
    "        \"CreatedAt\": \"2023-05-09T11:00:11.2225+03:30\",\n",
    "        \"UpdatedAt\": \"2023-05-09T11:00:11.2225+03:30\",\n",
    "        \"DeletedAt\": null,\n",
    "        \"x\": -584,\n",
    "        \"y\": 872\n",
    "      }\n",
    "    },\n",
    "    {\n",
    "      \"id\": 2,\n",
    "      \"start\": {\n",
    "        \"ID\": 10,\n",
    "        \"CreatedAt\": \"2023-05-09T11:00:12.181975+03:30\",\n",
    "        \"UpdatedAt\": \"2023-05-09T11:00:12.181975+03:30\",\n",
    "        \"DeletedAt\": null,\n",
    "        \"x\": 955,\n",
    "        \"y\": -862\n",
    "      },\n",
    "      \"stop\": {\n",
    "        \"ID\": 4,\n",
    "        \"CreatedAt\": \"2023-05-09T11:00:08.386891+03:30\",\n",
    "        \"UpdatedAt\": \"2023-05-09T11:00:08.386891+03:30\",\n",
    "        \"DeletedAt\": null,\n",
    "        \"x\": 475,\n",
    "        \"y\": -265\n",
    "      }\n",
    "    }\n",
    "  ],\n",
    "  \"searches\": [\n",
    "    {\n",
    "      \"x1\": -545,\n",
    "      \"y1\": -850,\n",
    "      \"x2\": -215,\n",
    "      \"y2\": 471\n",
    "    },\n",
    "    {\n",
    "      \"x1\": 877,\n",
    "      \"y1\": 239,\n",
    "      \"x2\": -594,\n",
    "      \"y2\": -762\n",
    "    },\n",
    "    {\n",
    "      \"x1\": 171,\n",
    "      \"y1\": -629,\n",
    "      \"x2\": 40,\n",
    "      \"y2\": -741\n",
    "    }\n",
    "  ]\n",
    "}"
   ]
  },
  {
   "cell_type": "code",
   "execution_count": null,
   "id": "e2651042",
   "metadata": {},
   "outputs": [],
   "source": []
  }
 ],
 "metadata": {
  "kernelspec": {
   "display_name": "Python 3 (ipykernel)",
   "language": "python",
   "name": "python3"
  },
  "language_info": {
   "codemirror_mode": {
    "name": "ipython",
    "version": 3
   },
   "file_extension": ".py",
   "mimetype": "text/x-python",
   "name": "python",
   "nbconvert_exporter": "python",
   "pygments_lexer": "ipython3",
   "version": "3.7.4"
  }
 },
 "nbformat": 4,
 "nbformat_minor": 5
}
